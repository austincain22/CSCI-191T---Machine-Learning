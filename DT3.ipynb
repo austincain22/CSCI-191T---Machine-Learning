{
 "cells": [
  {
   "cell_type": "markdown",
   "metadata": {},
   "source": [
    "# Decision Trees 3"
   ]
  },
  {
   "cell_type": "code",
   "execution_count": 14,
   "metadata": {},
   "outputs": [
    {
     "name": "stdout",
     "output_type": "stream",
     "text": [
      "56000.0\n"
     ]
    }
   ],
   "source": [
    "from __future__ import division, unicode_literals\n",
    "import pandas as pd \n",
    "\n",
    "L = [5554, 6296, 5590, 5707, 5496, 5027, 5469, 5817, 5434, 5610]\n",
    "N = sum(L)*1.0\n",
    "print (N)"
   ]
  },
  {
   "cell_type": "code",
   "execution_count": 15,
   "metadata": {},
   "outputs": [
    {
     "name": "stdout",
     "output_type": "stream",
     "text": [
      "0.09917857142857144\n",
      "[0.09917857142857144, 0.11242857142857143, 0.09982142857142857, 0.10191071428571429, 0.09814285714285714, 0.08976785714285715, 0.09766071428571428, 0.103875, 0.09703571428571428, 0.10017857142857142]\n"
     ]
    }
   ],
   "source": [
    "P = [i/N for i in L]\n",
    "print (P[0])\n",
    "print (P)"
   ]
  },
  {
   "cell_type": "code",
   "execution_count": 5,
   "metadata": {},
   "outputs": [
    {
     "name": "stdout",
     "output_type": "stream",
     "text": [
      "[0.08934218239795919, 0.09978838775510204, 0.08985711096938775, 0.0915249205994898, 0.08851083673469388, 0.08170958896683674, 0.08812309917091836, 0.093084984375, 0.0876197844387755, 0.09014282525510203]\n",
      "0.8997037206632652\n"
     ]
    }
   ],
   "source": [
    "# GINI Calc\n",
    "G = [p*(1-p) for p in P]\n",
    "Gini = lambda Pl: sum([p * (1-p) for p in Pl])\n",
    "\n",
    "print (G)\n",
    "print (sum(G))"
   ]
  },
  {
   "cell_type": "code",
   "execution_count": 6,
   "metadata": {},
   "outputs": [
    {
     "name": "stdout",
     "output_type": "stream",
     "text": [
      "[-0.33064427312820166, -0.3544782218591436, -0.3318570019990944, -0.3357573179117817, -0.32867777065691334, -0.3121818376859514, -0.32775696100210644, -0.3393678953085048, -0.32655820530729623, -0.3325281569350721]\n",
      "E:  -697386.567635835\n",
      "-697386.567635835\n"
     ]
    }
   ],
   "source": [
    "# Entropy\n",
    "import math\n",
    "E = [p * math.log(p, 2) for p in P]\n",
    "print (E)\n",
    "\n",
    "Entropy = lambda Pl: -1 * sum([p * math.log(p, 2) if p else 0 for p in Pl]) \n",
    "print (\"E: \", Entropy(L))\n",
    "\n",
    "print (-1 * sum([p * math.log(p, 2) for p in L]))"
   ]
  },
  {
   "cell_type": "code",
   "execution_count": 7,
   "metadata": {},
   "outputs": [
    {
     "name": "stdout",
     "output_type": "stream",
     "text": [
      "[0.09917857142857144, 0.11242857142857143, 0.09982142857142857, 0.10191071428571429, 0.09814285714285714, 0.08976785714285715, 0.09766071428571428, 0.103875, 0.09703571428571428, 0.10017857142857142]\n",
      "3.3198076417940654\n",
      "Before:  0.8997037206632652\n",
      "56000\n",
      "G1:  0.8405111072738907\n",
      "G2:  0.8733382207460293\n"
     ]
    }
   ],
   "source": [
    "Probs = lambda Lx: [i/sum(Lx) for i in Lx]\n",
    "L1 =[5371, 195, 779, 3959, 855, 3089, 1360, 3897, 540, 1770]\n",
    "L2 = [183, 6101, 4811, 1748, 4641, 1938, 4109, 1920, 4894, 3840]\n",
    "\n",
    "print (Probs(L))\n",
    "print (Entropy(Probs(L)))\n",
    "print (\"Before: \",Gini(Probs(L)))\n",
    "print (sum(L1) + sum(L2))\n",
    "\n",
    "print (\"G1: \", Gini(Probs(L1)))\n",
    "print (\"G2: \", Gini(Probs(L2)))"
   ]
  },
  {
   "cell_type": "code",
   "execution_count": 8,
   "metadata": {},
   "outputs": [
    {
     "name": "stdout",
     "output_type": "stream",
     "text": [
      "[0.09917857142857144, 0.11242857142857143, 0.09982142857142857, 0.10191071428571429, 0.09814285714285714, 0.08976785714285715, 0.09766071428571428, 0.103875, 0.09703571428571428, 0.10017857142857142]\n",
      "Before:  3.3198076417940654\n",
      "56000\n",
      "G1:  2.8792490452807016\n",
      "G2:  3.0839220885615366\n"
     ]
    }
   ],
   "source": [
    "print (Probs(L))\n",
    "print (\"Before: \",Entropy(Probs(L)))\n",
    "print (sum(L1) + sum(L2))\n",
    "\n",
    "print (\"G1: \", Entropy(Probs(L1)))\n",
    "print (\"G2: \", Entropy(Probs(L2)))"
   ]
  },
  {
   "cell_type": "code",
   "execution_count": 9,
   "metadata": {},
   "outputs": [
    {
     "name": "stdout",
     "output_type": "stream",
     "text": [
      "Before 0.8997037206632652\n",
      "After:  0.8605503014532668\n",
      "Information Gain:  0.039153419209998375\n"
     ]
    }
   ],
   "source": [
    "#print sum(L1)/sum(L)\n",
    "#print sum(L2)/sum(L)\n",
    "\n",
    "Split = Gini(Probs(L1))*sum(L1)/sum(L) + Gini(Probs(L2))*sum(L2)/sum(L)\n",
    "Ig = Gini(Probs(L)) - Split\n",
    "print (\"Before\", Gini(Probs(L)))\n",
    "print (\"After: \", Split)\n",
    "print (\"Information Gain: \",Ig)"
   ]
  },
  {
   "cell_type": "code",
   "execution_count": 10,
   "metadata": {},
   "outputs": [
    {
     "name": "stdout",
     "output_type": "stream",
     "text": [
      "Before 3.3198076417940654\n",
      "Split Purity:  2.8792490452807016 3.0839220885615366\n",
      "After:  3.004190973576333\n",
      "Information Gain:  0.3156166682177326\n"
     ]
    }
   ],
   "source": [
    "Purity = Entropy\n",
    "Split = Purity(Probs(L1))*sum(L1)/sum(L) + Purity(Probs(L2))*sum(L2)/sum(L)\n",
    "Ig = Purity(Probs(L)) - Split\n",
    "print (\"Before\", Purity(Probs(L)))\n",
    "print (\"Split Purity: \", Purity(Probs(L1)), Purity(Probs(L2)))\n",
    "print (\"After: \", Split)\n",
    "print (\"Information Gain: \",Ig)"
   ]
  },
  {
   "cell_type": "code",
   "execution_count": 17,
   "metadata": {},
   "outputs": [
    {
     "name": "stdout",
     "output_type": "stream",
     "text": [
      "Before 1.0\n",
      "Split Entropy:  [-0.0, -0.0, 0.15304930567574826]\n"
     ]
    }
   ],
   "source": [
    "Purity = Entropy\n",
    "Restaurant = [6, 6]\n",
    "Split = [ [2, 0], [0,4], [4, 2]]\n",
    "SplitEntropy = [ Purity(Probs(l))/sum(l) for l in Split ]\n",
    "print (\"Before\", Purity(Probs(Restaurant)))\n",
    "print (\"Split Entropy: \", SplitEntropy)\n",
    "\n",
    "SplitEntropyFun = lambda Sp: sum(Purity(Probs(l))/sum(l) for l in Split)"
   ]
  },
  {
   "cell_type": "code",
   "execution_count": 23,
   "metadata": {},
   "outputs": [
    {
     "name": "stdout",
     "output_type": "stream",
     "text": [
      "0.9709505944546686\n",
      "Split on A1\n",
      "-0.0\n",
      "1.0\n",
      "0.8\n",
      "Information Gain:  0.17095059445466854\n",
      "Split on A2\n",
      "-0.0\n",
      "0.9182958340544896\n",
      "0.5509775004326937\n",
      "Information Gain:  0.4199730940219749\n",
      "Split on A3\n",
      "0.9182958340544896\n",
      "1.0\n",
      "0.9509775004326937\n",
      "Information Gain:  0.01997309402197489\n",
      "0.15304930567574826\n",
      "0.15304930567574826\n",
      "0.15304930567574826\n"
     ]
    }
   ],
   "source": [
    "Binary = [3, 2]\n",
    "BinarySplit1=[[1,0], [2, 2]]\n",
    "BinarySplit2=[[2,0], [1,2]]\n",
    "BinarySplit3=[[2,1], [1,1]]\n",
    "print (Entropy(Probs(Binary)))\n",
    "\n",
    "Before = Entropy(Probs([3,2]))\n",
    "\n",
    "print(\"Split on A1\")\n",
    "print(Entropy(Probs([1,0])))\n",
    "print(Entropy(Probs([2,2])))\n",
    "print(1.0/5.0 * Entropy(Probs([1,0])) + 4.0/5.0 * Entropy(Probs([2,2])))\n",
    "After = 1.0/5.0 * Entropy(Probs([1,0])) + 4.0/5.0 * Entropy(Probs([2,2]))\n",
    "print(\"Information Gain A1: \", Before - After)\n",
    "\n",
    "print(\"Split on A2\")\n",
    "print(Entropy(Probs([2,0])))\n",
    "print(Entropy(Probs([1,2])))\n",
    "print(2.0/5.0 * Entropy(Probs([2,0])) + 3.0/5.0 * Entropy(Probs([1,2])))\n",
    "After = 2.0/5.0 * Entropy(Probs([2,0])) + 3.0/5.0 * Entropy(Probs([1,2]))\n",
    "print(\"Information Gain A2: \", Before - After)\n",
    "\n",
    "print(\"Split on A3\")\n",
    "print(Entropy(Probs([2,1])))\n",
    "print(Entropy(Probs([1,1])))\n",
    "print(3.0/5.0 * Entropy(Probs([2,1])) + 2.0/5.0 * Entropy(Probs([1,1])))\n",
    "After = 3.0/5.0 * Entropy(Probs([2,1])) + 2.0/5.0 * Entropy(Probs([1,1]))\n",
    "print(\"Information Gain A3: \", Before - After)\n",
    "\n",
    "print(SplitEntropyFun(BinarySplit1))\n",
    "print(SplitEntropyFun(BinarySplit2))\n",
    "print(SplitEntropyFun(BinarySplit3))"
   ]
  },
  {
   "cell_type": "code",
   "execution_count": 24,
   "metadata": {},
   "outputs": [
    {
     "name": "stdout",
     "output_type": "stream",
     "text": [
      "0.9182958340544896\n"
     ]
    }
   ],
   "source": [
    "print (Entropy(Probs([1,2])))"
   ]
  },
  {
   "cell_type": "code",
   "execution_count": 16,
   "metadata": {
    "scrolled": true
   },
   "outputs": [
    {
     "name": "stdout",
     "output_type": "stream",
     "text": [
      "   0  1  2\n",
      "0  1  0  0\n",
      "1  1  0  1\n",
      "2  0  1  0\n",
      "3  1  1  1\n",
      "4  1  1  0\n"
     ]
    }
   ],
   "source": [
    "X = [[1,0,0],[1,0,1],[0,1,0],[1,1,1],[1,1,0]]\n",
    "Y = [0,0,0,1,1]\n",
    "\n",
    "Xp = pd.DataFrame(X)\n",
    "print(Xp)"
   ]
  },
  {
   "cell_type": "code",
   "execution_count": null,
   "metadata": {},
   "outputs": [],
   "source": []
  }
 ],
 "metadata": {
  "kernelspec": {
   "display_name": "Python 3",
   "language": "python",
   "name": "python3"
  },
  "language_info": {
   "codemirror_mode": {
    "name": "ipython",
    "version": 3
   },
   "file_extension": ".py",
   "mimetype": "text/x-python",
   "name": "python",
   "nbconvert_exporter": "python",
   "pygments_lexer": "ipython3",
   "version": "3.7.1"
  }
 },
 "nbformat": 4,
 "nbformat_minor": 2
}
