{
 "cells": [
  {
   "cell_type": "code",
   "execution_count": 21,
   "metadata": {},
   "outputs": [],
   "source": [
    "# To support both python 2 and python 3\n",
    "from __future__ import division, print_function, unicode_literals\n",
    "\n",
    "# Common imports\n",
    "import numpy as np\n",
    "\n",
    "# to make this notebook's output stable across runs\n",
    "np.random.seed(42)\n",
    "\n",
    "# To plot pretty figures\n",
    "%matplotlib inline\n",
    "import matplotlib\n",
    "import matplotlib.pyplot as plt\n",
    "\n",
    "import pandas as pd"
   ]
  },
  {
   "cell_type": "code",
   "execution_count": 22,
   "metadata": {},
   "outputs": [
    {
     "name": "stdout",
     "output_type": "stream",
     "text": [
      "<class 'pandas.core.frame.DataFrame'>\n",
      "RangeIndex: 42000 entries, 0 to 41999\n",
      "Columns: 785 entries, label to pixel783\n",
      "dtypes: int64(785)\n",
      "memory usage: 251.5 MB\n"
     ]
    }
   ],
   "source": [
    "train = pd.read_csv('digitRecognizer/train.csv')\n",
    "train.info()"
   ]
  },
  {
   "cell_type": "code",
   "execution_count": 23,
   "metadata": {},
   "outputs": [
    {
     "name": "stdout",
     "output_type": "stream",
     "text": [
      "\n",
      "Training Percentages:\n",
      "\n",
      "0.8\n",
      "0.8\n",
      "(33600, 784)\n"
     ]
    }
   ],
   "source": [
    "from sklearn.model_selection import train_test_split\n",
    "\n",
    "train_X, test_X, train_Y, test_Y = train_test_split(train.iloc[:,1:], train.iloc[:,0], test_size=0.2, random_state=42)\n",
    "\n",
    "print( \"\\nTraining Percentages:\\n\" )\n",
    "print(train_X.shape[0]/len(train.iloc[:,1:]))\n",
    "print(train_Y.shape[0]/len(train.iloc[:,1:]))\n",
    "print( train_X.shape )"
   ]
  },
  {
   "cell_type": "code",
   "execution_count": 24,
   "metadata": {},
   "outputs": [
    {
     "name": "stdout",
     "output_type": "stream",
     "text": [
      "pixel0      0\n",
      "pixel1      0\n",
      "pixel2      0\n",
      "pixel3      0\n",
      "pixel4      0\n",
      "pixel5      0\n",
      "pixel6      0\n",
      "pixel7      0\n",
      "pixel8      0\n",
      "pixel9      0\n",
      "pixel10     0\n",
      "pixel11     0\n",
      "pixel12     0\n",
      "pixel13     0\n",
      "pixel14     0\n",
      "pixel15     0\n",
      "pixel16     0\n",
      "pixel17     0\n",
      "pixel18     0\n",
      "pixel19     0\n",
      "pixel20     0\n",
      "pixel21     0\n",
      "pixel22     0\n",
      "pixel23     0\n",
      "pixel24     0\n",
      "pixel25     0\n",
      "pixel26     0\n",
      "pixel27     0\n",
      "pixel28     0\n",
      "pixel29     0\n",
      "           ..\n",
      "pixel754    0\n",
      "pixel755    0\n",
      "pixel756    0\n",
      "pixel757    0\n",
      "pixel758    0\n",
      "pixel759    0\n",
      "pixel760    0\n",
      "pixel761    0\n",
      "pixel762    0\n",
      "pixel763    0\n",
      "pixel764    0\n",
      "pixel765    0\n",
      "pixel766    0\n",
      "pixel767    0\n",
      "pixel768    0\n",
      "pixel769    0\n",
      "pixel770    0\n",
      "pixel771    0\n",
      "pixel772    0\n",
      "pixel773    0\n",
      "pixel774    0\n",
      "pixel775    0\n",
      "pixel776    0\n",
      "pixel777    0\n",
      "pixel778    0\n",
      "pixel779    0\n",
      "pixel780    0\n",
      "pixel781    0\n",
      "pixel782    0\n",
      "pixel783    0\n",
      "Name: 28009, Length: 784, dtype: int64\n",
      "8\n"
     ]
    }
   ],
   "source": [
    "# No shaping\n",
    "myNumber = train_X.iloc[5]\n",
    "myNumberLabel = train_Y.iloc[5]\n",
    "myNumber2 = train_X.iloc[7]\n",
    "myNumberLabel2 = train_Y.iloc[7]\n",
    "print (myNumber)\n",
    "print (myNumberLabel)"
   ]
  },
  {
   "cell_type": "code",
   "execution_count": 25,
   "metadata": {},
   "outputs": [
    {
     "name": "stdout",
     "output_type": "stream",
     "text": [
      "(28, 28)\n",
      "0 0 0 0 0 0 0 0 0 0 0 0 0 0 0 0 0 0 0 0 0 0 0 0 0 0 0 0\n",
      "0 0 0 0 0 0 0 0 0 0 0 0 0 0 0 0 0 0 0 0 0 0 0 0 0 0 0 0\n",
      "0 0 0 0 0 0 0 0 0 0 0 0 0 0 0 0 0 0 0 0 0 0 0 0 0 0 0 0\n",
      "0 0 0 0 0 0 0 0 0 0 0 0 0 0 0 0 0 0 0 0 0 0 0 0 0 0 0 0\n",
      "0 0 0 0 0 0 0 0 0 0 0 0 0 0 0 0 0 0 0 0 0 0 0 0 0 0 0 0\n",
      "0 0 0 0 0 0 0 0 0 0 86 170 170 198 170 170 114 57 0 0 0 0 0 0 0 0 0 0\n",
      "0 0 0 0 0 0 0 0 0 114 255 255 255 255 255 255 255 255 226 29 0 0 0 0 0 0 0 0\n",
      "0 0 0 0 0 0 0 0 86 255 255 57 29 0 114 198 255 255 255 255 86 0 0 0 0 0 0 0\n",
      "0 0 0 0 0 0 0 0 226 255 114 0 0 0 0 0 29 86 198 255 255 0 0 0 0 0 0 0\n",
      "0 0 0 0 0 0 0 86 255 114 0 0 0 0 0 0 0 0 57 255 255 0 0 0 0 0 0 0\n",
      "0 0 0 0 0 0 0 141 255 57 0 0 0 0 0 0 0 0 0 198 255 57 0 0 0 0 0 0\n",
      "0 0 0 0 0 0 0 255 255 0 0 0 0 0 0 0 0 0 0 170 255 29 0 0 0 0 0 0\n",
      "0 0 0 0 0 0 0 198 255 86 0 0 0 86 170 226 170 57 114 255 198 0 0 0 0 0 0 0\n",
      "0 0 0 0 0 0 0 57 255 255 198 114 198 255 255 255 255 255 255 255 57 0 0 0 0 0 0 0\n",
      "0 0 0 0 0 0 0 0 170 255 255 255 255 255 255 255 255 255 255 226 86 0 0 0 0 0 0 0\n",
      "0 0 0 0 0 0 0 0 0 86 255 255 255 255 255 114 170 198 141 255 255 57 0 0 0 0 0 0\n",
      "0 0 0 0 0 0 0 0 0 198 255 255 114 86 29 0 0 0 0 170 255 255 0 0 0 0 0 0\n",
      "0 0 0 0 0 0 0 0 0 255 255 0 0 0 0 0 0 0 0 29 255 255 114 0 0 0 0 0\n",
      "0 0 0 0 0 0 0 0 0 255 255 0 0 0 0 0 0 0 0 0 141 255 226 0 0 0 0 0\n",
      "0 0 0 0 0 0 0 0 0 255 255 29 0 0 0 0 0 0 0 0 29 255 255 0 0 0 0 0\n",
      "0 0 0 0 0 0 0 0 0 255 255 198 0 0 0 0 0 0 0 0 114 255 170 0 0 0 0 0\n",
      "0 0 0 0 0 0 0 0 0 198 255 255 226 86 86 86 86 141 170 255 255 226 0 0 0 0 0 0\n",
      "0 0 0 0 0 0 0 0 0 0 226 255 255 255 255 255 255 255 255 255 226 29 0 0 0 0 0 0\n",
      "0 0 0 0 0 0 0 0 0 0 29 198 255 255 255 255 255 141 86 0 0 0 0 0 0 0 0 0\n",
      "0 0 0 0 0 0 0 0 0 0 0 0 29 170 170 86 86 0 0 0 0 0 0 0 0 0 0 0\n",
      "0 0 0 0 0 0 0 0 0 0 0 0 0 0 0 0 0 0 0 0 0 0 0 0 0 0 0 0\n",
      "0 0 0 0 0 0 0 0 0 0 0 0 0 0 0 0 0 0 0 0 0 0 0 0 0 0 0 0\n",
      "0 0 0 0 0 0 0 0 0 0 0 0 0 0 0 0 0 0 0 0 0 0 0 0 0 0 0 0\n"
     ]
    }
   ],
   "source": [
    "## Shape it into the 28x28 image.\n",
    "myNumber = myNumber.values.reshape((28,28))\n",
    "myNumber2 = myNumber2.values.reshape((28,28))\n",
    "print(myNumber.shape)\n",
    "for x in myNumber: print (' '.join('%s'%n for n in x))"
   ]
  },
  {
   "cell_type": "code",
   "execution_count": 26,
   "metadata": {},
   "outputs": [
    {
     "data": {
      "image/png": "[encoded data removed]",
      "text/plain": [
       "<Figure size 432x288 with 1 Axes>"
      ]
     },
     "metadata": {
      "needs_background": "light"
     },
     "output_type": "display_data"
    },
    {
     "name": "stdout",
     "output_type": "stream",
     "text": [
      "7\n"
     ]
    }
   ],
   "source": [
    "plt.imshow(myNumber2, cmap = matplotlib.cm.binary,\n",
    "           interpolation=\"nearest\")\n",
    "plt.axis(\"off\")\n",
    "plt.show()\n",
    "print (myNumberLabel2)"
   ]
  },
  {
   "cell_type": "code",
   "execution_count": 35,
   "metadata": {},
   "outputs": [
    {
     "name": "stdout",
     "output_type": "stream",
     "text": [
      "Accuracy on Training:  0.9061904761904762\n",
      "Accuracy on Test:  0.8454761904761905\n",
      "Prediction on myNumber: 8\n"
     ]
    }
   ],
   "source": [
    "from sklearn.tree import DecisionTreeClassifier\n",
    "\n",
    "classifier = DecisionTreeClassifier(max_depth=10)\n",
    "classifier.fit(train_X,train_Y)\n",
    "\n",
    "y_pred = classifier.predict(train_X)\n",
    "print (\"Accuracy on Training: \",sum(y_pred==train_Y)/len(train_Y))\n",
    "\n",
    "y_pred = classifier.predict(test_X)\n",
    "print (\"Accuracy on Test: \",sum(y_pred==test_Y)/len(test_Y))\n",
    "\n",
    "myNumber = myNumber.reshape(1,-1)\n",
    "print ('Prediction on myNumber: %i'%classifier.predict(myNumber))"
   ]
  },
  {
   "cell_type": "code",
   "execution_count": 36,
   "metadata": {},
   "outputs": [
    {
     "data": {
      "image/png": "[encoded data removed]",
      "text/plain": [
       "<Figure size 432x288 with 1 Axes>"
      ]
     },
     "metadata": {
      "needs_background": "light"
     },
     "output_type": "display_data"
    },
    {
     "name": "stdout",
     "output_type": "stream",
     "text": [
      "Prediction on myNumber: 7\n"
     ]
    }
   ],
   "source": [
    "plt.imshow(myNumber2.reshape((28,28)), cmap = matplotlib.cm.binary,\n",
    "           interpolation=\"nearest\")\n",
    "plt.axis(\"off\")\n",
    "plt.show()\n",
    "myNumber2 = myNumber2.reshape(1,-1)\n",
    "print ('Prediction on myNumber: %i'%classifier.predict(myNumber2))"
   ]
  },
  {
   "cell_type": "code",
   "execution_count": null,
   "metadata": {},
   "outputs": [],
   "source": []
  }
 ],
 "metadata": {
  "kernelspec": {
   "display_name": "Python 3",
   "language": "python",
   "name": "python3"
  },
  "language_info": {
   "codemirror_mode": {
    "name": "ipython",
    "version": 3
   },
   "file_extension": ".py",
   "mimetype": "text/x-python",
   "name": "python",
   "nbconvert_exporter": "python",
   "pygments_lexer": "ipython3",
   "version": "3.7.1"
  }
 },
 "nbformat": 4,
 "nbformat_minor": 2
}
